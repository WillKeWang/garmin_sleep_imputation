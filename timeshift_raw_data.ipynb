{
 "cells": [
  {
   "cell_type": "code",
   "execution_count": 1,
   "metadata": {},
   "outputs": [],
   "source": [
    "import pandas as pd\n",
    "import numpy as np\n",
    "import datetime\n",
    "\n",
    "D = 12\n",
    "\n",
    "subjects_list = ['S1', 'S4', 'S5']\n",
    "epochs_dir = './data/epochs_cleaned/epochs_cleaned_{}.csv'\n",
    "hr_dir = './data/hr_cleaned/hr_cleaned_{}.csv'\n",
    "sleep_dir = './data/sleep_cleaned/sleep_cleaned_{}.csv'"
   ]
  },
  {
   "cell_type": "code",
   "execution_count": 2,
   "metadata": {},
   "outputs": [],
   "source": [
    "# update epochs\n",
    "def f_add_days(s, n, format='%Y-%m-%d'):\n",
    "    day_obj = datetime.datetime.strptime(s, format)\n",
    "    new_day = day_obj + datetime.timedelta(days=n)\n",
    "    return new_day.strftime(format)\n",
    "\n",
    "for s in subjects_list:\n",
    "    epochs_df = pd.read_csv(epochs_dir.format(s))\n",
    "    epochs_df[\"startDate\"] = epochs_df[\"startDate\"].apply(f_add_days, n=D)\n",
    "    epochs_df[\"startTimeStamp\"] = epochs_df[\"startTimeStamp\"] + D*24*3600\n",
    "    epochs_df[\"endTimeStamp\"] = epochs_df[\"endTimeStamp\"] + D*24*3600\n",
    "    epochs_df.to_csv(epochs_dir.format(s))"
   ]
  },
  {
   "cell_type": "code",
   "execution_count": 5,
   "metadata": {},
   "outputs": [],
   "source": [
    "# update sleep\n",
    "\n",
    "for s in subjects_list:\n",
    "    sleep_df = pd.read_csv(sleep_dir.format(s))\n",
    "    sleep_df[\"startDate\"] = sleep_df[\"startDate\"].apply(f_add_days, n=D)\n",
    "    sleep_df[\"endDate\"] = sleep_df[\"endDate\"].apply(f_add_days, n=D)\n",
    "    sleep_df[\"startTimeStamp\"] = sleep_df[\"startTimeStamp\"] + D*24*3600\n",
    "    sleep_df[\"endTimeStamp\"] = sleep_df[\"endTimeStamp\"] + D*24*3600\n",
    "    sleep_df.to_csv(sleep_dir.format(s))"
   ]
  },
  {
   "cell_type": "code",
   "execution_count": 13,
   "metadata": {},
   "outputs": [],
   "source": [
    "\n",
    "for s in subjects_list:\n",
    "    hr_df = pd.read_csv(hr_dir.format(s))\n",
    "    hr_df[\"date\"] = hr_df[\"date\"].apply(f_add_days, n=D)\n",
    "    hr_df[\"dateTime\"] = hr_df[\"dateTime\"].apply(f_add_days, n=D, format='%m/%d/%y %H:%M')\n",
    "    hr_df[\"timeStamp\"] = hr_df[\"timeStamp\"] + D*24*3600\n",
    "    hr_df.to_csv(hr_dir.format(s))\n"
   ]
  }
 ],
 "metadata": {
  "kernelspec": {
   "display_name": "Python 3.9.7 ('base')",
   "language": "python",
   "name": "python3"
  },
  "language_info": {
   "codemirror_mode": {
    "name": "ipython",
    "version": 3
   },
   "file_extension": ".py",
   "mimetype": "text/x-python",
   "name": "python",
   "nbconvert_exporter": "python",
   "pygments_lexer": "ipython3",
   "version": "3.9.7"
  },
  "orig_nbformat": 4,
  "vscode": {
   "interpreter": {
    "hash": "4c3993d7b9c48e4e5244709efbcc1970e775c9c4ff34c43c7bf261bfddaa6a9e"
   }
  }
 },
 "nbformat": 4,
 "nbformat_minor": 2
}
